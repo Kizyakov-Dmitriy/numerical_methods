{
 "cells": [
  {
   "cell_type": "code",
   "execution_count": 10,
   "id": "6ac34d23",
   "metadata": {},
   "outputs": [],
   "source": [
    "from random import randint, random"
   ]
  },
  {
   "cell_type": "code",
   "execution_count": 1,
   "id": "a758670f",
   "metadata": {},
   "outputs": [],
   "source": [
    "def mat_input():\n",
    "    n, m = list(map(int, input(f\"Введите размерность матрицы через пробел: \").split()))\n",
    "    mat = []\n",
    "    comp = False\n",
    "    print(f\"Построчно через пробел вводите элементы матрицы\")\n",
    "    for _ in range(n):\n",
    "        mat.append(list(map(float, input().split())))\n",
    "        if len(mat[-1]) != m:\n",
    "            print(\"Количество элементов в строке не соответствует заявленному\")\n",
    "            break     \n",
    "    return mat"
   ]
  },
  {
   "cell_type": "code",
   "execution_count": 4,
   "id": "5ec0b3fb",
   "metadata": {},
   "outputs": [],
   "source": [
    "def mat_csv(name):\n",
    "    mat = []\n",
    "    with open(name, 'r') as f:\n",
    "        csv_reader = csv.reader(f, delimiter=',')\n",
    "        for row in csv_reader:\n",
    "            mat.append(list(map(float, row.split())))   \n",
    "    return mat"
   ]
  },
  {
   "cell_type": "code",
   "execution_count": 20,
   "id": "dccf87c3",
   "metadata": {},
   "outputs": [],
   "source": [
    "def mat_rand(n, a = 1, b = 100, inf = 0):\n",
    "    mat = []\n",
    "    for i in range(n):\n",
    "        mat.append([])\n",
    "        for j in range(n):\n",
    "            if i == j:\n",
    "                mat[i].append(\"inf\")\n",
    "            elif random() > inf:\n",
    "                mat[i].append(randint(a, b))\n",
    "            else:\n",
    "                mat[i].append(\"inf\")\n",
    "    return mat"
   ]
  },
  {
   "cell_type": "code",
   "execution_count": null,
   "id": "5decd16c",
   "metadata": {},
   "outputs": [],
   "source": []
  }
 ],
 "metadata": {
  "kernelspec": {
   "display_name": "Python 3",
   "language": "python",
   "name": "python3"
  },
  "language_info": {
   "codemirror_mode": {
    "name": "ipython",
    "version": 3
   },
   "file_extension": ".py",
   "mimetype": "text/x-python",
   "name": "python",
   "nbconvert_exporter": "python",
   "pygments_lexer": "ipython3",
   "version": "3.8.8"
  }
 },
 "nbformat": 4,
 "nbformat_minor": 5
}
